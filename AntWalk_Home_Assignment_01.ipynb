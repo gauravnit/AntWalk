{
 "cells": [
  {
   "cell_type": "code",
   "execution_count": 347,
   "id": "212476fa",
   "metadata": {},
   "outputs": [],
   "source": [
    "import pandas as pd\n",
    "import os\n",
    "import numpy as np\n",
    "\n",
    "filename1 = 'Customer Attrition Status.csv'\n",
    "filename2 = 'Customer Demographics.csv'\n",
    "filename3 = 'Customer Investment Snapshot.csv'\n",
    "filename4 = 'Customer Portfolio Snapshot.csv'\n",
    "\n",
    "df1 = pd.read_csv(filename1)\n",
    "df2 = pd.read_csv(filename2)\n",
    "df3 = pd.read_csv(filename3)\n",
    "df4 = pd.read_csv(filename4)"
   ]
  },
  {
   "cell_type": "code",
   "execution_count": 354,
   "id": "047a9300",
   "metadata": {},
   "outputs": [
    {
     "data": {
      "text/html": [
       "<div>\n",
       "<style scoped>\n",
       "    .dataframe tbody tr th:only-of-type {\n",
       "        vertical-align: middle;\n",
       "    }\n",
       "\n",
       "    .dataframe tbody tr th {\n",
       "        vertical-align: top;\n",
       "    }\n",
       "\n",
       "    .dataframe thead th {\n",
       "        text-align: right;\n",
       "    }\n",
       "</style>\n",
       "<table border=\"1\" class=\"dataframe\">\n",
       "  <thead>\n",
       "    <tr style=\"text-align: right;\">\n",
       "      <th></th>\n",
       "      <th>RowNumber</th>\n",
       "      <th>CustomerId</th>\n",
       "      <th>CreditScore</th>\n",
       "      <th>Age</th>\n",
       "      <th>Tenure</th>\n",
       "      <th>Balance</th>\n",
       "      <th>NumOfProducts</th>\n",
       "      <th>HasChckng</th>\n",
       "      <th>IsActiveMember</th>\n",
       "      <th>EstimatedSalary</th>\n",
       "      <th>Exited</th>\n",
       "    </tr>\n",
       "  </thead>\n",
       "  <tbody>\n",
       "    <tr>\n",
       "      <th>RowNumber</th>\n",
       "      <td>1.000000</td>\n",
       "      <td>0.009853</td>\n",
       "      <td>0.006332</td>\n",
       "      <td>-0.000440</td>\n",
       "      <td>-0.008020</td>\n",
       "      <td>-0.004741</td>\n",
       "      <td>0.007246</td>\n",
       "      <td>0.000599</td>\n",
       "      <td>0.012044</td>\n",
       "      <td>-0.005988</td>\n",
       "      <td>-0.016571</td>\n",
       "    </tr>\n",
       "    <tr>\n",
       "      <th>CustomerId</th>\n",
       "      <td>0.009853</td>\n",
       "      <td>1.000000</td>\n",
       "      <td>0.005658</td>\n",
       "      <td>0.008627</td>\n",
       "      <td>-0.015261</td>\n",
       "      <td>-0.008690</td>\n",
       "      <td>0.016972</td>\n",
       "      <td>-0.014025</td>\n",
       "      <td>0.001665</td>\n",
       "      <td>0.015271</td>\n",
       "      <td>-0.006248</td>\n",
       "    </tr>\n",
       "    <tr>\n",
       "      <th>CreditScore</th>\n",
       "      <td>0.006332</td>\n",
       "      <td>0.005658</td>\n",
       "      <td>1.000000</td>\n",
       "      <td>-0.004118</td>\n",
       "      <td>-0.001960</td>\n",
       "      <td>-0.003884</td>\n",
       "      <td>0.011966</td>\n",
       "      <td>-0.006044</td>\n",
       "      <td>0.025737</td>\n",
       "      <td>-0.002197</td>\n",
       "      <td>-0.027794</td>\n",
       "    </tr>\n",
       "    <tr>\n",
       "      <th>Age</th>\n",
       "      <td>-0.000440</td>\n",
       "      <td>0.008627</td>\n",
       "      <td>-0.004118</td>\n",
       "      <td>1.000000</td>\n",
       "      <td>-0.009025</td>\n",
       "      <td>-0.012822</td>\n",
       "      <td>-0.028665</td>\n",
       "      <td>-0.013279</td>\n",
       "      <td>0.082351</td>\n",
       "      <td>-0.009181</td>\n",
       "      <td>0.280904</td>\n",
       "    </tr>\n",
       "    <tr>\n",
       "      <th>Tenure</th>\n",
       "      <td>-0.008020</td>\n",
       "      <td>-0.015261</td>\n",
       "      <td>-0.001960</td>\n",
       "      <td>-0.009025</td>\n",
       "      <td>1.000000</td>\n",
       "      <td>0.005572</td>\n",
       "      <td>0.017197</td>\n",
       "      <td>0.023078</td>\n",
       "      <td>-0.029180</td>\n",
       "      <td>0.008055</td>\n",
       "      <td>-0.012178</td>\n",
       "    </tr>\n",
       "    <tr>\n",
       "      <th>Balance</th>\n",
       "      <td>-0.004741</td>\n",
       "      <td>-0.008690</td>\n",
       "      <td>-0.003884</td>\n",
       "      <td>-0.012822</td>\n",
       "      <td>0.005572</td>\n",
       "      <td>1.000000</td>\n",
       "      <td>-0.001027</td>\n",
       "      <td>0.006721</td>\n",
       "      <td>-0.020418</td>\n",
       "      <td>-0.001856</td>\n",
       "      <td>0.017208</td>\n",
       "    </tr>\n",
       "    <tr>\n",
       "      <th>NumOfProducts</th>\n",
       "      <td>0.007246</td>\n",
       "      <td>0.016972</td>\n",
       "      <td>0.011966</td>\n",
       "      <td>-0.028665</td>\n",
       "      <td>0.017197</td>\n",
       "      <td>-0.001027</td>\n",
       "      <td>1.000000</td>\n",
       "      <td>0.003183</td>\n",
       "      <td>0.009612</td>\n",
       "      <td>0.014204</td>\n",
       "      <td>-0.047820</td>\n",
       "    </tr>\n",
       "    <tr>\n",
       "      <th>HasChckng</th>\n",
       "      <td>0.000599</td>\n",
       "      <td>-0.014025</td>\n",
       "      <td>-0.006044</td>\n",
       "      <td>-0.013279</td>\n",
       "      <td>0.023078</td>\n",
       "      <td>0.006721</td>\n",
       "      <td>0.003183</td>\n",
       "      <td>1.000000</td>\n",
       "      <td>-0.011866</td>\n",
       "      <td>-0.009933</td>\n",
       "      <td>-0.007138</td>\n",
       "    </tr>\n",
       "    <tr>\n",
       "      <th>IsActiveMember</th>\n",
       "      <td>0.012044</td>\n",
       "      <td>0.001665</td>\n",
       "      <td>0.025737</td>\n",
       "      <td>0.082351</td>\n",
       "      <td>-0.029180</td>\n",
       "      <td>-0.020418</td>\n",
       "      <td>0.009612</td>\n",
       "      <td>-0.011866</td>\n",
       "      <td>1.000000</td>\n",
       "      <td>-0.011421</td>\n",
       "      <td>-0.156128</td>\n",
       "    </tr>\n",
       "    <tr>\n",
       "      <th>EstimatedSalary</th>\n",
       "      <td>-0.005988</td>\n",
       "      <td>0.015271</td>\n",
       "      <td>-0.002197</td>\n",
       "      <td>-0.009181</td>\n",
       "      <td>0.008055</td>\n",
       "      <td>-0.001856</td>\n",
       "      <td>0.014204</td>\n",
       "      <td>-0.009933</td>\n",
       "      <td>-0.011421</td>\n",
       "      <td>1.000000</td>\n",
       "      <td>0.012097</td>\n",
       "    </tr>\n",
       "    <tr>\n",
       "      <th>Exited</th>\n",
       "      <td>-0.016571</td>\n",
       "      <td>-0.006248</td>\n",
       "      <td>-0.027794</td>\n",
       "      <td>0.280904</td>\n",
       "      <td>-0.012178</td>\n",
       "      <td>0.017208</td>\n",
       "      <td>-0.047820</td>\n",
       "      <td>-0.007138</td>\n",
       "      <td>-0.156128</td>\n",
       "      <td>0.012097</td>\n",
       "      <td>1.000000</td>\n",
       "    </tr>\n",
       "  </tbody>\n",
       "</table>\n",
       "</div>"
      ],
      "text/plain": [
       "                 RowNumber  CustomerId  CreditScore       Age    Tenure  \\\n",
       "RowNumber         1.000000    0.009853     0.006332 -0.000440 -0.008020   \n",
       "CustomerId        0.009853    1.000000     0.005658  0.008627 -0.015261   \n",
       "CreditScore       0.006332    0.005658     1.000000 -0.004118 -0.001960   \n",
       "Age              -0.000440    0.008627    -0.004118  1.000000 -0.009025   \n",
       "Tenure           -0.008020   -0.015261    -0.001960 -0.009025  1.000000   \n",
       "Balance          -0.004741   -0.008690    -0.003884 -0.012822  0.005572   \n",
       "NumOfProducts     0.007246    0.016972     0.011966 -0.028665  0.017197   \n",
       "HasChckng         0.000599   -0.014025    -0.006044 -0.013279  0.023078   \n",
       "IsActiveMember    0.012044    0.001665     0.025737  0.082351 -0.029180   \n",
       "EstimatedSalary  -0.005988    0.015271    -0.002197 -0.009181  0.008055   \n",
       "Exited           -0.016571   -0.006248    -0.027794  0.280904 -0.012178   \n",
       "\n",
       "                  Balance  NumOfProducts  HasChckng  IsActiveMember  \\\n",
       "RowNumber       -0.004741       0.007246   0.000599        0.012044   \n",
       "CustomerId      -0.008690       0.016972  -0.014025        0.001665   \n",
       "CreditScore     -0.003884       0.011966  -0.006044        0.025737   \n",
       "Age             -0.012822      -0.028665  -0.013279        0.082351   \n",
       "Tenure           0.005572       0.017197   0.023078       -0.029180   \n",
       "Balance          1.000000      -0.001027   0.006721       -0.020418   \n",
       "NumOfProducts   -0.001027       1.000000   0.003183        0.009612   \n",
       "HasChckng        0.006721       0.003183   1.000000       -0.011866   \n",
       "IsActiveMember  -0.020418       0.009612  -0.011866        1.000000   \n",
       "EstimatedSalary -0.001856       0.014204  -0.009933       -0.011421   \n",
       "Exited           0.017208      -0.047820  -0.007138       -0.156128   \n",
       "\n",
       "                 EstimatedSalary    Exited  \n",
       "RowNumber              -0.005988 -0.016571  \n",
       "CustomerId              0.015271 -0.006248  \n",
       "CreditScore            -0.002197 -0.027794  \n",
       "Age                    -0.009181  0.280904  \n",
       "Tenure                  0.008055 -0.012178  \n",
       "Balance                -0.001856  0.017208  \n",
       "NumOfProducts           0.014204 -0.047820  \n",
       "HasChckng              -0.009933 -0.007138  \n",
       "IsActiveMember         -0.011421 -0.156128  \n",
       "EstimatedSalary         1.000000  0.012097  \n",
       "Exited                  0.012097  1.000000  "
      ]
     },
     "execution_count": 354,
     "metadata": {},
     "output_type": "execute_result"
    }
   ],
   "source": [
    "df1 = df1.sort_values(by='RowNumber')\n",
    "df2 = df2.sort_values(by='RowNumber')\n",
    "df3 = df3.sort_values(by='RowNumber')\n",
    "df4 = df4.sort_values(by='RowNumber')\n",
    "\n",
    "result1 = pd.merge(df4,df3,left_on=['RowNumber','CustomerId'],right_on=['RowNumber','CustomerId'],how='left')\n",
    "result2 = pd.merge(result1,df2,left_on=['RowNumber','CustomerId'],right_on=['RowNumber','CustomerId'],how='left')\n",
    "result = pd.merge(result2,df1,left_on=['RowNumber','CustomerId'],right_on=['RowNumber','CustomerId'],how='left')\n",
    "#print(result)\n",
    "\n",
    "result = result.reindex(['RowNumber','CustomerId','Surname','CreditScore','Geography','Gender','Age','Tenure','Balance','NumOfProducts','HasChckng','IsActiveMember','EstimatedSalary','Exited'],axis=1)\n",
    "result = result.dropna(subset=['CustomerId'])\n",
    "result = result.drop_duplicates()\n",
    "result_corr = result.corr()\n",
    "result_corr"
   ]
  },
  {
   "cell_type": "code",
   "execution_count": 349,
   "id": "4fa94d75",
   "metadata": {},
   "outputs": [
    {
     "data": {
      "text/plain": [
       "<AxesSubplot:xlabel='Geography', ylabel='count'>"
      ]
     },
     "execution_count": 349,
     "metadata": {},
     "output_type": "execute_result"
    },
    {
     "data": {
      "image/png": "[encoded data removed]",
      "text/plain": [
       "<Figure size 432x288 with 1 Axes>"
      ]
     },
     "metadata": {
      "needs_background": "light"
     },
     "output_type": "display_data"
    }
   ],
   "source": [
    "import seaborn as sns\n",
    "missing_column = ['Balance','EstimatedSalary','CreditScore','Age','Tenure','NumOfProducts']\n",
    "for i in missing_column:\n",
    "    result.loc[result.loc[:,i].isnull(),i]=result.loc[:,i].median()\n",
    "result = result.ffill()\n",
    "\n",
    "sns.countplot(x=\"Geography\",data=result,hue=\"Exited\")"
   ]
  },
  {
   "cell_type": "code",
   "execution_count": 350,
   "id": "5e91dc5b",
   "metadata": {},
   "outputs": [
    {
     "data": {
      "text/plain": [
       "<AxesSubplot:xlabel='Gender', ylabel='count'>"
      ]
     },
     "execution_count": 350,
     "metadata": {},
     "output_type": "execute_result"
    },
    {
     "data": {
      "image/png": "[encoded data removed]",
      "text/plain": [
       "<Figure size 432x288 with 1 Axes>"
      ]
     },
     "metadata": {
      "needs_background": "light"
     },
     "output_type": "display_data"
    }
   ],
   "source": [
    "sns.countplot(x=\"Gender\",data=result,hue=\"Exited\")"
   ]
  },
  {
   "cell_type": "code",
   "execution_count": 351,
   "id": "936c3a4e",
   "metadata": {},
   "outputs": [
    {
     "data": {
      "text/plain": [
       "<AxesSubplot:xlabel='NumOfProducts', ylabel='count'>"
      ]
     },
     "execution_count": 351,
     "metadata": {},
     "output_type": "execute_result"
    },
    {
     "data": {
      "image/png": "[encoded data removed]",
      "text/plain": [
       "<Figure size 432x288 with 1 Axes>"
      ]
     },
     "metadata": {
      "needs_background": "light"
     },
     "output_type": "display_data"
    }
   ],
   "source": [
    "sns.countplot(x=\"NumOfProducts\",data=result,hue=\"Exited\")"
   ]
  },
  {
   "cell_type": "code",
   "execution_count": 352,
   "id": "07c93cc0",
   "metadata": {},
   "outputs": [
    {
     "data": {
      "text/plain": [
       "<AxesSubplot:xlabel='HasChckng', ylabel='count'>"
      ]
     },
     "execution_count": 352,
     "metadata": {},
     "output_type": "execute_result"
    },
    {
     "data": {
      "image/png": "[encoded data removed]",
      "text/plain": [
       "<Figure size 432x288 with 1 Axes>"
      ]
     },
     "metadata": {
      "needs_background": "light"
     },
     "output_type": "display_data"
    }
   ],
   "source": [
    "sns.countplot(x=\"HasChckng\",data=result,hue=\"Exited\")"
   ]
  },
  {
   "cell_type": "code",
   "execution_count": 353,
   "id": "9743f83d",
   "metadata": {},
   "outputs": [
    {
     "data": {
      "text/plain": [
       "<AxesSubplot:xlabel='IsActiveMember', ylabel='count'>"
      ]
     },
     "execution_count": 353,
     "metadata": {},
     "output_type": "execute_result"
    },
    {
     "data": {
      "image/png": "[encoded data removed]",
      "text/plain": [
       "<Figure size 432x288 with 1 Axes>"
      ]
     },
     "metadata": {
      "needs_background": "light"
     },
     "output_type": "display_data"
    }
   ],
   "source": [
    "sns.countplot(x=\"IsActiveMember\",data=result,hue=\"Exited\")"
   ]
  }
 ],
 "metadata": {
  "kernelspec": {
   "display_name": "Python 3 (ipykernel)",
   "language": "python",
   "name": "python3"
  },
  "language_info": {
   "codemirror_mode": {
    "name": "ipython",
    "version": 3
   },
   "file_extension": ".py",
   "mimetype": "text/x-python",
   "name": "python",
   "nbconvert_exporter": "python",
   "pygments_lexer": "ipython3",
   "version": "3.8.10"
  }
 },
 "nbformat": 4,
 "nbformat_minor": 5
}
